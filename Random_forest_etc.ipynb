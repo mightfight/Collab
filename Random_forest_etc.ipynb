{
  "nbformat": 4,
  "nbformat_minor": 0,
  "metadata": {
    "colab": {
      "provenance": [],
      "mount_file_id": "1fKSCVncdZWb_azDdReMIkBuVYIKe8eoc",
      "authorship_tag": "ABX9TyNVmSyqnkXSLoAT3rWM5zht",
      "include_colab_link": true
    },
    "kernelspec": {
      "name": "python3",
      "display_name": "Python 3"
    },
    "language_info": {
      "name": "python"
    }
  },
  "cells": [
    {
      "cell_type": "markdown",
      "metadata": {
        "id": "view-in-github",
        "colab_type": "text"
      },
      "source": [
        "<a href=\"https://colab.research.google.com/github/mightfight/Collab/blob/main/Random_forest_etc.ipynb\" target=\"_parent\"><img src=\"https://colab.research.google.com/assets/colab-badge.svg\" alt=\"Open In Colab\"/></a>"
      ]
    },
    {
      "cell_type": "code",
      "execution_count": null,
      "metadata": {
        "colab": {
          "base_uri": "https://localhost:8080/"
        },
        "id": "ZYmnQrrppK-h",
        "outputId": "6a8e763d-9431-4d63-d0cc-23dfb706a9a8"
      },
      "outputs": [
        {
          "output_type": "stream",
          "name": "stdout",
          "text": [
            "Drive already mounted at /content/drive; to attempt to forcibly remount, call drive.mount(\"/content/drive\", force_remount=True).\n",
            "Requirement already satisfied: scikit-learn in /usr/local/lib/python3.10/dist-packages (1.2.2)\n",
            "Requirement already satisfied: numpy>=1.17.3 in /usr/local/lib/python3.10/dist-packages (from scikit-learn) (1.22.4)\n",
            "Requirement already satisfied: scipy>=1.3.2 in /usr/local/lib/python3.10/dist-packages (from scikit-learn) (1.10.1)\n",
            "Requirement already satisfied: joblib>=1.1.1 in /usr/local/lib/python3.10/dist-packages (from scikit-learn) (1.2.0)\n",
            "Requirement already satisfied: threadpoolctl>=2.0.0 in /usr/local/lib/python3.10/dist-packages (from scikit-learn) (3.1.0)\n",
            "Requirement already satisfied: matplotlib in /usr/local/lib/python3.10/dist-packages (3.7.1)\n",
            "Requirement already satisfied: contourpy>=1.0.1 in /usr/local/lib/python3.10/dist-packages (from matplotlib) (1.1.0)\n",
            "Requirement already satisfied: cycler>=0.10 in /usr/local/lib/python3.10/dist-packages (from matplotlib) (0.11.0)\n",
            "Requirement already satisfied: fonttools>=4.22.0 in /usr/local/lib/python3.10/dist-packages (from matplotlib) (4.40.0)\n",
            "Requirement already satisfied: kiwisolver>=1.0.1 in /usr/local/lib/python3.10/dist-packages (from matplotlib) (1.4.4)\n",
            "Requirement already satisfied: numpy>=1.20 in /usr/local/lib/python3.10/dist-packages (from matplotlib) (1.22.4)\n",
            "Requirement already satisfied: packaging>=20.0 in /usr/local/lib/python3.10/dist-packages (from matplotlib) (23.1)\n",
            "Requirement already satisfied: pillow>=6.2.0 in /usr/local/lib/python3.10/dist-packages (from matplotlib) (8.4.0)\n",
            "Requirement already satisfied: pyparsing>=2.3.1 in /usr/local/lib/python3.10/dist-packages (from matplotlib) (3.1.0)\n",
            "Requirement already satisfied: python-dateutil>=2.7 in /usr/local/lib/python3.10/dist-packages (from matplotlib) (2.8.2)\n",
            "Requirement already satisfied: six>=1.5 in /usr/local/lib/python3.10/dist-packages (from python-dateutil>=2.7->matplotlib) (1.16.0)\n",
            "Requirement already satisfied: imbalanced-learn in /usr/local/lib/python3.10/dist-packages (0.10.1)\n",
            "Requirement already satisfied: numpy>=1.17.3 in /usr/local/lib/python3.10/dist-packages (from imbalanced-learn) (1.22.4)\n",
            "Requirement already satisfied: scipy>=1.3.2 in /usr/local/lib/python3.10/dist-packages (from imbalanced-learn) (1.10.1)\n",
            "Requirement already satisfied: scikit-learn>=1.0.2 in /usr/local/lib/python3.10/dist-packages (from imbalanced-learn) (1.2.2)\n",
            "Requirement already satisfied: joblib>=1.1.1 in /usr/local/lib/python3.10/dist-packages (from imbalanced-learn) (1.2.0)\n",
            "Requirement already satisfied: threadpoolctl>=2.0.0 in /usr/local/lib/python3.10/dist-packages (from imbalanced-learn) (3.1.0)\n",
            "Requirement already satisfied: albumentations in /usr/local/lib/python3.10/dist-packages (1.2.1)\n",
            "Requirement already satisfied: numpy>=1.11.1 in /usr/local/lib/python3.10/dist-packages (from albumentations) (1.22.4)\n",
            "Requirement already satisfied: scipy in /usr/local/lib/python3.10/dist-packages (from albumentations) (1.10.1)\n",
            "Requirement already satisfied: scikit-image>=0.16.1 in /usr/local/lib/python3.10/dist-packages (from albumentations) (0.19.3)\n",
            "Requirement already satisfied: PyYAML in /usr/local/lib/python3.10/dist-packages (from albumentations) (6.0)\n",
            "Requirement already satisfied: qudida>=0.0.4 in /usr/local/lib/python3.10/dist-packages (from albumentations) (0.0.4)\n",
            "Requirement already satisfied: opencv-python-headless>=4.1.1 in /usr/local/lib/python3.10/dist-packages (from albumentations) (4.7.0.72)\n",
            "Requirement already satisfied: scikit-learn>=0.19.1 in /usr/local/lib/python3.10/dist-packages (from qudida>=0.0.4->albumentations) (1.2.2)\n",
            "Requirement already satisfied: typing-extensions in /usr/local/lib/python3.10/dist-packages (from qudida>=0.0.4->albumentations) (4.6.3)\n",
            "Requirement already satisfied: networkx>=2.2 in /usr/local/lib/python3.10/dist-packages (from scikit-image>=0.16.1->albumentations) (3.1)\n",
            "Requirement already satisfied: pillow!=7.1.0,!=7.1.1,!=8.3.0,>=6.1.0 in /usr/local/lib/python3.10/dist-packages (from scikit-image>=0.16.1->albumentations) (8.4.0)\n",
            "Requirement already satisfied: imageio>=2.4.1 in /usr/local/lib/python3.10/dist-packages (from scikit-image>=0.16.1->albumentations) (2.25.1)\n",
            "Requirement already satisfied: tifffile>=2019.7.26 in /usr/local/lib/python3.10/dist-packages (from scikit-image>=0.16.1->albumentations) (2023.4.12)\n",
            "Requirement already satisfied: PyWavelets>=1.1.1 in /usr/local/lib/python3.10/dist-packages (from scikit-image>=0.16.1->albumentations) (1.4.1)\n",
            "Requirement already satisfied: packaging>=20.0 in /usr/local/lib/python3.10/dist-packages (from scikit-image>=0.16.1->albumentations) (23.1)\n",
            "Requirement already satisfied: joblib>=1.1.1 in /usr/local/lib/python3.10/dist-packages (from scikit-learn>=0.19.1->qudida>=0.0.4->albumentations) (1.2.0)\n",
            "Requirement already satisfied: threadpoolctl>=2.0.0 in /usr/local/lib/python3.10/dist-packages (from scikit-learn>=0.19.1->qudida>=0.0.4->albumentations) (3.1.0)\n"
          ]
        }
      ],
      "source": [
        "from google.colab import drive\n",
        "drive.mount('/content/drive')\n",
        "!pip install scikit-learn\n",
        "!pip install matplotlib\n",
        "! pip install imbalanced-learn\n",
        "\n",
        "!pip install albumentations\n",
        "#!pip install split-folders\n",
        "#import splitfolders\n",
        "#splitfolders.ratio('/content/drive/MyDrive/grain_images', output=\"output\", seed=1337, ratio=(1, 0,0))\n"
      ]
    },
    {
      "cell_type": "code",
      "source": [
        "from pandas.core.generic import pickle\n",
        "import pickle\n",
        "\n",
        "\n"
      ],
      "metadata": {
        "id": "vuZMpwQQKAhF"
      },
      "execution_count": null,
      "outputs": []
    },
    {
      "cell_type": "code",
      "source": [
        "import os\n",
        "import pandas as pd\n",
        "import numpy as np\n",
        "import sklearn\n",
        "import cv2\n",
        "import matplotlib.pyplot as plt\n",
        "import numpy as np\n",
        "from sklearn.model_selection import train_test_split, GridSearchCV\n",
        "from sklearn.ensemble import RandomForestClassifier\n",
        "from sklearn.metrics import accuracy_score, confusion_matrix\n",
        "import itertools\n",
        "from sklearn.model_selection import StratifiedKFold\n",
        "from sklearn.ensemble import RandomForestClassifier\n",
        "from sklearn.cluster import KMeans\n",
        "from sklearn.model_selection import train_test_split\n",
        "from imblearn.over_sampling import SMOTE\n",
        "import torch\n",
        "import torchvision\n",
        "from torch import nn\n",
        "import albumentations as A\n",
        "transform_h = A.Compose([A.HorizontalFlip(p=1)])\n",
        "transform_v = A.Compose([A.VerticalFlip(p=1)])\n",
        "transform_c = A.Compose([A.HueSaturationValue(p=1),A.RandomBrightnessContrast(p=1)])\n",
        "\n",
        "\n",
        "\n",
        "\n",
        "# Define the paths to your image dataset\n",
        "#clean_path = '/content/output/train/clean'\n",
        "#damaged_path = '/content/output/train/damaged'\n",
        "#discolored_path = '/content/output/train/discolored'\n",
        "\n",
        "clean_path = '/content/drive/MyDrive/grain_images/clean'\n",
        "damaged_path = '/content/drive/MyDrive/grain_images/damaged'\n",
        "discolored_path = '/content/drive/MyDrive/grain_images/discolored'\n",
        "\n",
        "def load_images(path, label):\n",
        "    images = []\n",
        "    labels = []\n",
        "    for filename in os.listdir(path):\n",
        "        if filename.endswith('.jpg') or filename.endswith('.png'):\n",
        "            img = cv2.imread(os.path.join(path, filename))\n",
        "            img = cv2.cvtColor(img, cv2.COLOR_BGR2GRAY)  # Convert to grayscale\n",
        "            img = cv2.resize(img, (100, 100))  # Resize the images to a fixed size\n",
        "            img = cv2.cvtColor(img, cv2.COLOR_BGR2RGB)\n",
        "           # transformed_h = transform_h(image=img)\n",
        "            #transformed_h_image = transformed_h[\"image\"]\n",
        "            #transformed_v = transform_v(image=img)\n",
        "            #transformed_v_image = transformed_v[\"image\"]\n",
        "            #transformed_c = transform_c(image=img)\n",
        "            #transformed_c_image = transformed_c[\"image\"]\n",
        "            images.append(img)\n",
        "\n",
        "\n",
        "\n",
        "            #images.append(transformed_h_image)\n",
        "            #images.append(transformed_v_image)\n",
        "            #images.append(transformed_c_image)\n",
        "\n",
        "            labels.append(label)\n",
        "            return images, labels\n",
        "\n",
        "clean_images, clean_labels = load_images(clean_path, 0)\n",
        "damaged_images, damaged_labels = load_images(damaged_path, 1)\n",
        "discolored_images, discolored_labels = load_images(discolored_path, 2)\n",
        "\n",
        "images = clean_images + damaged_images + discolored_images\n",
        "labels = clean_labels + damaged_labels + discolored_labels\n",
        "\n",
        "\n",
        "images = np.array(images)\n",
        "labels = np.array(labels)\n",
        "\n",
        "# Split the data into train and test without using train_test_split\n",
        "X_train = images\n",
        "y_train = labels\n",
        "\n",
        "\n",
        "smote = SMOTE()\n",
        "\n",
        "X_train_flat = X_train.reshape(X_train.shape[0], -1)\n",
        "y_train_flat = y_train.reshape(y_train.shape[0], -1)\n",
        "\n",
        "print(X_train_flat.shape)\n",
        "print(y_train.shape)\n",
        "X_train_smote,y_train_smote= smote.fit_resample(X_train_flat, y_train)\n",
        "\n",
        "\n",
        "\n",
        "\n",
        "\n",
        "clean_path_1 = '/content/drive/MyDrive/z_seg2_qaqc/clean'\n",
        "damaged_path_1 = '/content/drive/MyDrive/z_seg2_qaqc/damaged'\n",
        "discolored_path_1 = '/content/drive/MyDrive/z_seg2_qaqc/discolored'\n",
        "\n",
        "\n",
        "\n",
        "def load_images(path, label):\n",
        "    images_1 = []\n",
        "    labels = []\n",
        "    for filename in os.listdir(path):\n",
        "        if filename.endswith('.jpg') or filename.endswith('.png'):\n",
        "            img = cv2.imread(os.path.join(path, filename))\n",
        "           # img = cv2.cvtColor(img, cv2.COLOR_BGR2GRAY)  # Convert to grayscale\n",
        "            img = cv2.resize(img, (100, 100))  # Resize the images to a fixed size\n",
        "            images_1.append(img)\n",
        "            labels.append(label)\n",
        "    return images_1, labels\n",
        "\n",
        "clean_images_1, clean_labels_1 = load_images(clean_path_1, 0)\n",
        "damaged_images_1, damaged_labels_1 = load_images(damaged_path_1, 1)\n",
        "discolored_images_1, discolored_labels_1 = load_images(discolored_path_1, 2)\n",
        "\n",
        "test_images = clean_images_1 + damaged_images_1 + discolored_images_1\n",
        "test_labels = clean_labels_1 + damaged_labels_1 + discolored_labels_1\n",
        "\n",
        "\n",
        "test_images = np.array(test_images)\n",
        "test_labels = np.array(test_labels)\n",
        "\n",
        "X_test = test_images\n",
        "y_test = test_labels\n",
        "\n"
      ],
      "metadata": {
        "colab": {
          "base_uri": "https://localhost:8080/"
        },
        "id": "V8LvJpBmphNv",
        "outputId": "29d5f868-521b-47c7-86c7-cd3719adbd80"
      },
      "execution_count": null,
      "outputs": [
        {
          "output_type": "stream",
          "name": "stdout",
          "text": [
            "(3, 30000)\n",
            "(3,)\n"
          ]
        }
      ]
    },
    {
      "cell_type": "code",
      "source": [
        "\n",
        "# Define the Random Forest Classifier\n",
        "rf_classifier = RandomForestClassifier(random_state=60)\n",
        "\n",
        "# Flatten the images to 1D arrays\n",
        "X_train_flat = X_train_smote.reshape(X_train_smote.shape[0], -1)\n",
        "X_test_flat = X_test.reshape(X_test.shape[0], -1)\n",
        "\n",
        "# Train the classifier\n",
        "rf_classifier.fit(X_train_flat, y_train_smote)\n",
        "\n",
        "# Predict on the test set\n",
        "y_pred = rf_classifier.predict(X_test_flat)\n",
        "\n",
        "# Calculate accuracy\n",
        "accuracy = accuracy_score(y_test, y_pred)\n",
        "print(\"Accuracy:\", accuracy)\n",
        "\n",
        "# Create confusion matrix\n",
        "cnf_matrix = confusion_matrix(y_test, y_pred)\n",
        "class_labels = ['clean', 'damaged', 'discolored']\n",
        "\n",
        "# Plot confusion matrix\n",
        "plt.imshow(cnf_matrix, interpolation='nearest', cmap=plt.cm.Blues)\n",
        "plt.title(\"Confusion Matrix\")\n",
        "plt.colorbar()\n",
        "tick_marks = np.arange(len(class_labels))\n",
        "plt.xticks(tick_marks, class_labels, rotation=45)\n",
        "plt.yticks(tick_marks, class_labels)\n",
        "\n",
        "# Normalize confusion matrix\n",
        "cnf_matrix_norm = cnf_matrix.astype('float') / cnf_matrix.sum(axis=1)[:, np.newaxis]\n",
        "\n",
        "# Add labels to the plot\n",
        "thresh = cnf_matrix.max() / 2.0\n",
        "for i, j in itertools.product(range(cnf_matrix.shape[0]), range(cnf_matrix.shape[1])):\n",
        "    plt.text(j, i, \"{:.2f}\".format(cnf_matrix_norm[i, j]),\n",
        "             horizontalalignment=\"center\",\n",
        "             color=\"white\" if cnf_matrix_norm[i, j] > thresh else \"black\")\n",
        "\n",
        "plt.tight_layout()\n",
        "plt.ylabel('True label')\n",
        "plt.xlabel('Predicted label')\n",
        "plt.show()\n"
      ],
      "metadata": {
        "id": "rFFRTUTZtQdY",
        "colab": {
          "base_uri": "https://localhost:8080/",
          "height": 523
        },
        "outputId": "e931eca9-22ac-4de6-d097-7e08fcb69424"
      },
      "execution_count": null,
      "outputs": [
        {
          "output_type": "stream",
          "name": "stdout",
          "text": [
            "Accuracy: 0.6036866359447005\n"
          ]
        },
        {
          "output_type": "display_data",
          "data": {
            "text/plain": [
              "<Figure size 640x480 with 2 Axes>"
            ],
            "image/png": "[encoded data removed]"
          },
          "metadata": {}
        }
      ]
    },
    {
      "cell_type": "code",
      "source": [
        "from sklearn.metrics import f1_score\n",
        "\n",
        "f1 = f1_score(y_test, y_pred, average='weighted')\n",
        "print(\"F1 Score:\", f1)\n"
      ],
      "metadata": {
        "colab": {
          "base_uri": "https://localhost:8080/"
        },
        "id": "EQIVZgm8FJ0O",
        "outputId": "3a9691eb-a8ed-4a87-b7cb-bb1059c6d268"
      },
      "execution_count": null,
      "outputs": [
        {
          "output_type": "stream",
          "name": "stdout",
          "text": [
            "F1 Score: 0.5774267005400787\n"
          ]
        }
      ]
    },
    {
      "cell_type": "code",
      "source": [
        "filename = 'random_forest_model.pkl'\n",
        "with open(filename, 'wb') as file:\n",
        "    pickle.dump(rf_classifier, file)"
      ],
      "metadata": {
        "id": "CcyunqbOxG_g"
      },
      "execution_count": null,
      "outputs": []
    },
    {
      "cell_type": "code",
      "source": [
        "from sklearn.naive_bayes import GaussianNB\n",
        "\n",
        "# Define the Naive Bayes Classifier\n",
        "nb_classifier = GaussianNB()\n",
        "\n",
        "# Flatten the images to 1D arrays\n",
        "X_train_flat = X_train_smote.reshape(X_train_smote.shape[0], -1)\n",
        "X_test_flat = X_test.reshape(X_test.shape[0], -1)\n",
        "\n",
        "# Train the classifier\n",
        "nb_classifier.fit(X_train_flat, y_train_smote)\n",
        "\n",
        "# Predict on the test set\n",
        "y_pred = nb_classifier.predict(X_test_flat)\n",
        "\n",
        "# Calculate accuracy\n",
        "accuracy = accuracy_score(y_test, y_pred)\n",
        "print(\"Accuracy:\", accuracy)\n",
        "\n",
        "# Create confusion matrix\n",
        "cnf_matrix = confusion_matrix(y_test, y_pred)\n",
        "class_labels = ['clean', 'damaged', 'discolored']\n",
        "\n",
        "# Plot confusion matrix\n",
        "plt.imshow(cnf_matrix, interpolation='nearest', cmap=plt.cm.Blues)\n",
        "plt.title(\"Confusion Matrix\")\n",
        "plt.colorbar()\n",
        "tick_marks = np.arange(len(class_labels))\n",
        "plt.xticks(tick_marks, class_labels, rotation=45)\n",
        "plt.yticks(tick_marks, class_labels)\n",
        "\n",
        "# Normalize confusion matrix\n",
        "cnf_matrix_norm = cnf_matrix.astype('float') / cnf_matrix.sum(axis=1)[:, np.newaxis]\n",
        "\n",
        "# Add labels to the plot\n",
        "thresh = cnf_matrix.max() / 2.0\n",
        "for i, j in itertools.product(range(cnf_matrix.shape[0]), range(cnf_matrix.shape[1])):\n",
        "    plt.text(j, i, \"{:.2f}\".format(cnf_matrix_norm[i, j]),\n",
        "             horizontalalignment=\"center\",\n",
        "             color=\"white\" if cnf_matrix_norm[i, j] > thresh else \"black\")\n",
        "\n",
        "plt.tight_layout()\n",
        "plt.ylabel('True label')\n",
        "plt.xlabel('Predicted label')\n",
        "plt.show()\n"
      ],
      "metadata": {
        "id": "YpC6HmmS1wap"
      },
      "execution_count": null,
      "outputs": []
    },
    {
      "cell_type": "code",
      "source": [
        "\n",
        "print(img.shape(X_train_flat))"
      ],
      "metadata": {
        "id": "n7-Jv3Wj3WrH"
      },
      "execution_count": null,
      "outputs": []
    }
  ]
}